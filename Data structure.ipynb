{
 "cells": [
  {
   "cell_type": "code",
   "execution_count": null,
   "id": "bf1bf3d7",
   "metadata": {},
   "outputs": [],
   "source": [
    "1.list ----->[]\n",
    "2.tuple ---->()\n",
    "3.set ------{at least one element}\n",
    "4.dict -----{}\n",
    "5.frozenset--> frozenset\n",
    "6.str ----->' ' ,\" \",'''''',\"\"\"\"\"\""
   ]
  },
  {
   "cell_type": "code",
   "execution_count": null,
   "id": "446ebf68",
   "metadata": {},
   "outputs": [],
   "source": [
    "#data strcture ----> collection of data(raw) ---> seq"
   ]
  },
  {
   "cell_type": "code",
   "execution_count": null,
   "id": "b65572c3",
   "metadata": {},
   "outputs": [],
   "source": [
    "list:\n",
    "    1. it collection of various datatype(element)\n",
    "    similer ---> Homogeneous\n",
    "    Differents-->Hetrogeous\n",
    "    2.[]\n",
    "    3.list is mutable type\n",
    "    4.list is ordered type DS\n",
    "    5.list can have duplicates element"
   ]
  },
  {
   "cell_type": "code",
   "execution_count": 1,
   "id": "731b969b",
   "metadata": {},
   "outputs": [],
   "source": [
    "py_list = []"
   ]
  },
  {
   "cell_type": "code",
   "execution_count": 2,
   "id": "6673ff8e",
   "metadata": {},
   "outputs": [
    {
     "data": {
      "text/plain": [
       "list"
      ]
     },
     "execution_count": 2,
     "metadata": {},
     "output_type": "execute_result"
    }
   ],
   "source": [
    "type(py_list)"
   ]
  },
  {
   "cell_type": "code",
   "execution_count": 3,
   "id": "4b8eeb7b",
   "metadata": {},
   "outputs": [],
   "source": [
    "p_list1 = [1,2,6,9,4,7,9,54,8,3,7,9]"
   ]
  },
  {
   "cell_type": "code",
   "execution_count": 5,
   "id": "fc371a7a",
   "metadata": {},
   "outputs": [
    {
     "data": {
      "text/plain": [
       "[1, 2, 6, 9, 4, 7, 9, 54, 8, 3, 7, 9]"
      ]
     },
     "execution_count": 5,
     "metadata": {},
     "output_type": "execute_result"
    }
   ],
   "source": [
    "p_list1"
   ]
  },
  {
   "cell_type": "code",
   "execution_count": 10,
   "id": "2027ad1a",
   "metadata": {},
   "outputs": [],
   "source": [
    "p = [34,578,67.67,True,10+20j,None,\"Python\"]"
   ]
  },
  {
   "cell_type": "code",
   "execution_count": 11,
   "id": "51eea0b1",
   "metadata": {},
   "outputs": [
    {
     "data": {
      "text/plain": [
       "[34, 578, 67.67, True, (10+20j), None, 'Python']"
      ]
     },
     "execution_count": 11,
     "metadata": {},
     "output_type": "execute_result"
    }
   ],
   "source": [
    "p"
   ]
  },
  {
   "cell_type": "code",
   "execution_count": null,
   "id": "23f5af91",
   "metadata": {},
   "outputs": [],
   "source": [
    "mutable --->  we can change its structure\n",
    "insert/delete/update/\n",
    "\n",
    "\n",
    "\n",
    "immutbale --> we cannt perform insert/delete/update on DS"
   ]
  },
  {
   "cell_type": "code",
   "execution_count": 12,
   "id": "471b9644",
   "metadata": {},
   "outputs": [
    {
     "data": {
      "text/plain": [
       "[34, 578, 67.67, True, (10+20j), None, 'Python']"
      ]
     },
     "execution_count": 12,
     "metadata": {},
     "output_type": "execute_result"
    }
   ],
   "source": [
    "p"
   ]
  },
  {
   "cell_type": "code",
   "execution_count": 13,
   "id": "e84731e3",
   "metadata": {},
   "outputs": [
    {
     "data": {
      "text/plain": [
       "67.67"
      ]
     },
     "execution_count": 13,
     "metadata": {},
     "output_type": "execute_result"
    }
   ],
   "source": [
    "p[2]"
   ]
  },
  {
   "cell_type": "code",
   "execution_count": 14,
   "id": "07ad76da",
   "metadata": {},
   "outputs": [
    {
     "data": {
      "text/plain": [
       "'Python'"
      ]
     },
     "execution_count": 14,
     "metadata": {},
     "output_type": "execute_result"
    }
   ],
   "source": [
    "p[-1]"
   ]
  },
  {
   "cell_type": "code",
   "execution_count": 15,
   "id": "a2107390",
   "metadata": {},
   "outputs": [],
   "source": [
    "py_list2 = [23,90,100,3,78,45,24]"
   ]
  },
  {
   "cell_type": "code",
   "execution_count": 16,
   "id": "3965215a",
   "metadata": {},
   "outputs": [
    {
     "data": {
      "text/plain": [
       "[23, 90, 100, 3, 78, 45, 24]"
      ]
     },
     "execution_count": 16,
     "metadata": {},
     "output_type": "execute_result"
    }
   ],
   "source": [
    "py_list2"
   ]
  },
  {
   "cell_type": "code",
   "execution_count": 23,
   "id": "030b1e2a",
   "metadata": {},
   "outputs": [],
   "source": [
    "p = [1,1,1,1,1,2,3,4,56,67,7,7,7,7,7]"
   ]
  },
  {
   "cell_type": "code",
   "execution_count": 24,
   "id": "6b679398",
   "metadata": {},
   "outputs": [
    {
     "data": {
      "text/plain": [
       "[1, 1, 1, 1, 1, 2, 3, 4, 56, 67, 7, 7, 7, 7, 7]"
      ]
     },
     "execution_count": 24,
     "metadata": {},
     "output_type": "execute_result"
    }
   ],
   "source": [
    "p"
   ]
  },
  {
   "cell_type": "code",
   "execution_count": 19,
   "id": "9c714bdf",
   "metadata": {},
   "outputs": [],
   "source": [
    "#operation on list\n"
   ]
  },
  {
   "cell_type": "code",
   "execution_count": 20,
   "id": "902c2b51",
   "metadata": {},
   "outputs": [],
   "source": [
    "#insert Operation\n",
    "1.insert(index,element) --> insert single element at desired position/location\n",
    "2.append\n",
    "3.extend"
   ]
  },
  {
   "cell_type": "code",
   "execution_count": 25,
   "id": "500474e6",
   "metadata": {},
   "outputs": [],
   "source": [
    "py_list = ['python','java','hadoop','pyspark','git',450,69]"
   ]
  },
  {
   "cell_type": "code",
   "execution_count": 26,
   "id": "d02a5420",
   "metadata": {},
   "outputs": [
    {
     "data": {
      "text/plain": [
       "['python', 'java', 'hadoop', 'pyspark', 'git', 450, 69]"
      ]
     },
     "execution_count": 26,
     "metadata": {},
     "output_type": "execute_result"
    }
   ],
   "source": [
    "py_list"
   ]
  },
  {
   "cell_type": "code",
   "execution_count": null,
   "id": "f7dd7835",
   "metadata": {},
   "outputs": [],
   "source": [
    "#py_list.insert(index,element)"
   ]
  },
  {
   "cell_type": "code",
   "execution_count": 27,
   "id": "491ce243",
   "metadata": {},
   "outputs": [],
   "source": [
    "py_list.insert(3,'Machine Learning')"
   ]
  },
  {
   "cell_type": "code",
   "execution_count": 28,
   "id": "14f650ef",
   "metadata": {},
   "outputs": [
    {
     "data": {
      "text/plain": [
       "['python', 'java', 'hadoop', 'Machine Learning', 'pyspark', 'git', 450, 69]"
      ]
     },
     "execution_count": 28,
     "metadata": {},
     "output_type": "execute_result"
    }
   ],
   "source": [
    "py_list"
   ]
  },
  {
   "cell_type": "code",
   "execution_count": 29,
   "id": "1c66547c",
   "metadata": {},
   "outputs": [
    {
     "data": {
      "text/plain": [
       "'Machine Learning'"
      ]
     },
     "execution_count": 29,
     "metadata": {},
     "output_type": "execute_result"
    }
   ],
   "source": [
    "py_list[3]"
   ]
  },
  {
   "cell_type": "code",
   "execution_count": 30,
   "id": "653b7b5a",
   "metadata": {},
   "outputs": [],
   "source": [
    "py_list.insert(0,'Data Sci')"
   ]
  },
  {
   "cell_type": "code",
   "execution_count": 31,
   "id": "dd42dd8b",
   "metadata": {},
   "outputs": [
    {
     "data": {
      "text/plain": [
       "['Data Sci',\n",
       " 'python',\n",
       " 'java',\n",
       " 'hadoop',\n",
       " 'Machine Learning',\n",
       " 'pyspark',\n",
       " 'git',\n",
       " 450,\n",
       " 69]"
      ]
     },
     "execution_count": 31,
     "metadata": {},
     "output_type": "execute_result"
    }
   ],
   "source": [
    "py_list"
   ]
  },
  {
   "cell_type": "code",
   "execution_count": 32,
   "id": "de83219e",
   "metadata": {},
   "outputs": [],
   "source": [
    "p = [1,5,7,3,7,4]"
   ]
  },
  {
   "cell_type": "code",
   "execution_count": 33,
   "id": "e75124cd",
   "metadata": {},
   "outputs": [
    {
     "data": {
      "text/plain": [
       "[1, 5, 7, 3, 7, 4]"
      ]
     },
     "execution_count": 33,
     "metadata": {},
     "output_type": "execute_result"
    }
   ],
   "source": [
    "p"
   ]
  },
  {
   "cell_type": "code",
   "execution_count": 34,
   "id": "24bccda6",
   "metadata": {},
   "outputs": [],
   "source": [
    "p.append(45)"
   ]
  },
  {
   "cell_type": "code",
   "execution_count": 35,
   "id": "b8438b5d",
   "metadata": {},
   "outputs": [
    {
     "data": {
      "text/plain": [
       "[1, 5, 7, 3, 7, 4, 45]"
      ]
     },
     "execution_count": 35,
     "metadata": {},
     "output_type": "execute_result"
    }
   ],
   "source": [
    "p"
   ]
  },
  {
   "cell_type": "code",
   "execution_count": 36,
   "id": "9a64661a",
   "metadata": {},
   "outputs": [],
   "source": [
    "p.append(4646)"
   ]
  },
  {
   "cell_type": "code",
   "execution_count": 37,
   "id": "e3e67fbc",
   "metadata": {},
   "outputs": [
    {
     "data": {
      "text/plain": [
       "[1, 5, 7, 3, 7, 4, 45, 4646]"
      ]
     },
     "execution_count": 37,
     "metadata": {},
     "output_type": "execute_result"
    }
   ],
   "source": [
    "p"
   ]
  },
  {
   "cell_type": "code",
   "execution_count": 38,
   "id": "2f418905",
   "metadata": {},
   "outputs": [],
   "source": [
    "p.append(2424)"
   ]
  },
  {
   "cell_type": "code",
   "execution_count": 39,
   "id": "c00562e2",
   "metadata": {},
   "outputs": [
    {
     "data": {
      "text/plain": [
       "[1, 5, 7, 3, 7, 4, 45, 4646, 2424]"
      ]
     },
     "execution_count": 39,
     "metadata": {},
     "output_type": "execute_result"
    }
   ],
   "source": [
    "p"
   ]
  },
  {
   "cell_type": "code",
   "execution_count": 40,
   "id": "316334bb",
   "metadata": {},
   "outputs": [],
   "source": [
    "even = []\n",
    "odd = []\n",
    "for i in p:\n",
    "    if i%2==0:\n",
    "        even.append(i)\n",
    "    else:\n",
    "        odd.append(i)"
   ]
  },
  {
   "cell_type": "code",
   "execution_count": 41,
   "id": "cae6f3ed",
   "metadata": {},
   "outputs": [
    {
     "data": {
      "text/plain": [
       "[4, 4646, 2424]"
      ]
     },
     "execution_count": 41,
     "metadata": {},
     "output_type": "execute_result"
    }
   ],
   "source": [
    "even"
   ]
  },
  {
   "cell_type": "code",
   "execution_count": 42,
   "id": "55ed3463",
   "metadata": {},
   "outputs": [
    {
     "data": {
      "text/plain": [
       "[1, 5, 7, 3, 7, 45]"
      ]
     },
     "execution_count": 42,
     "metadata": {},
     "output_type": "execute_result"
    }
   ],
   "source": [
    "odd"
   ]
  },
  {
   "cell_type": "code",
   "execution_count": null,
   "id": "594f6a96",
   "metadata": {},
   "outputs": [],
   "source": [
    "#append(element) ---> add single element at the last position\n"
   ]
  },
  {
   "cell_type": "code",
   "execution_count": 43,
   "id": "561eaa57",
   "metadata": {},
   "outputs": [
    {
     "data": {
      "text/plain": [
       "[1, 5, 7, 3, 7, 4, 45, 4646, 2424]"
      ]
     },
     "execution_count": 43,
     "metadata": {},
     "output_type": "execute_result"
    }
   ],
   "source": [
    "p"
   ]
  },
  {
   "cell_type": "code",
   "execution_count": 44,
   "id": "12acafef",
   "metadata": {},
   "outputs": [],
   "source": [
    "p.append([34,5,7,89,5])"
   ]
  },
  {
   "cell_type": "code",
   "execution_count": 45,
   "id": "88574a37",
   "metadata": {},
   "outputs": [
    {
     "data": {
      "text/plain": [
       "[1, 5, 7, 3, 7, 4, 45, 4646, 2424, [34, 5, 7, 89, 5]]"
      ]
     },
     "execution_count": 45,
     "metadata": {},
     "output_type": "execute_result"
    }
   ],
   "source": [
    "p"
   ]
  },
  {
   "cell_type": "code",
   "execution_count": 46,
   "id": "410caaf7",
   "metadata": {},
   "outputs": [
    {
     "data": {
      "text/plain": [
       "[34, 5, 7, 89, 5]"
      ]
     },
     "execution_count": 46,
     "metadata": {},
     "output_type": "execute_result"
    }
   ],
   "source": [
    "p[-1]"
   ]
  },
  {
   "cell_type": "code",
   "execution_count": 47,
   "id": "644df5f1",
   "metadata": {},
   "outputs": [
    {
     "data": {
      "text/plain": [
       "34"
      ]
     },
     "execution_count": 47,
     "metadata": {},
     "output_type": "execute_result"
    }
   ],
   "source": [
    "p[-1][0]"
   ]
  },
  {
   "cell_type": "code",
   "execution_count": 48,
   "id": "6f941c3c",
   "metadata": {},
   "outputs": [],
   "source": [
    "p = [1,2,3,[45,67,[70,90,[400,500,[100]]]]]"
   ]
  },
  {
   "cell_type": "code",
   "execution_count": 54,
   "id": "42d6d1df",
   "metadata": {},
   "outputs": [
    {
     "data": {
      "text/plain": [
       "100"
      ]
     },
     "execution_count": 54,
     "metadata": {},
     "output_type": "execute_result"
    }
   ],
   "source": [
    "p[3][2][2][2][0]"
   ]
  },
  {
   "cell_type": "code",
   "execution_count": 80,
   "id": "0f4273d7",
   "metadata": {},
   "outputs": [],
   "source": [
    "p = [456,678,267,79]"
   ]
  },
  {
   "cell_type": "code",
   "execution_count": 56,
   "id": "f74e7d92",
   "metadata": {},
   "outputs": [],
   "source": [
    "p.extend([100,200,300,500,600])"
   ]
  },
  {
   "cell_type": "code",
   "execution_count": 57,
   "id": "06edbc79",
   "metadata": {},
   "outputs": [
    {
     "data": {
      "text/plain": [
       "[456, 678, 267, 79, 100, 200, 300, 500, 600]"
      ]
     },
     "execution_count": 57,
     "metadata": {},
     "output_type": "execute_result"
    }
   ],
   "source": [
    "p"
   ]
  },
  {
   "cell_type": "code",
   "execution_count": 62,
   "id": "4eca3f69",
   "metadata": {},
   "outputs": [],
   "source": [
    "t1 = [1,2,3]\n",
    "\n",
    "t2 = ['python','java','c']"
   ]
  },
  {
   "cell_type": "code",
   "execution_count": 59,
   "id": "b661a373",
   "metadata": {},
   "outputs": [],
   "source": [
    "t1.extend(t2)"
   ]
  },
  {
   "cell_type": "code",
   "execution_count": 60,
   "id": "5ff64840",
   "metadata": {},
   "outputs": [
    {
     "data": {
      "text/plain": [
       "[1, 2, 3, 'python', 'java', 'c']"
      ]
     },
     "execution_count": 60,
     "metadata": {},
     "output_type": "execute_result"
    }
   ],
   "source": [
    "t1"
   ]
  },
  {
   "cell_type": "code",
   "execution_count": 61,
   "id": "3ceb180c",
   "metadata": {},
   "outputs": [],
   "source": [
    "#how to delete element from list\n",
    "1.pop\n",
    "2.remove"
   ]
  },
  {
   "cell_type": "code",
   "execution_count": 63,
   "id": "88104fd6",
   "metadata": {},
   "outputs": [],
   "source": [
    "t2.extend(t1)"
   ]
  },
  {
   "cell_type": "code",
   "execution_count": 64,
   "id": "c51bed2f",
   "metadata": {},
   "outputs": [
    {
     "data": {
      "text/plain": [
       "['python', 'java', 'c', 1, 2, 3]"
      ]
     },
     "execution_count": 64,
     "metadata": {},
     "output_type": "execute_result"
    }
   ],
   "source": [
    "t2"
   ]
  },
  {
   "cell_type": "code",
   "execution_count": 65,
   "id": "e7888601",
   "metadata": {},
   "outputs": [
    {
     "data": {
      "text/plain": [
       "[1, 2, 3]"
      ]
     },
     "execution_count": 65,
     "metadata": {},
     "output_type": "execute_result"
    }
   ],
   "source": [
    "t1"
   ]
  },
  {
   "cell_type": "code",
   "execution_count": 66,
   "id": "5ab089b4",
   "metadata": {},
   "outputs": [
    {
     "data": {
      "text/plain": [
       "['python', 'java', 'c', 1, 2, 3]"
      ]
     },
     "execution_count": 66,
     "metadata": {},
     "output_type": "execute_result"
    }
   ],
   "source": [
    "t2"
   ]
  },
  {
   "cell_type": "code",
   "execution_count": 67,
   "id": "938e87e5",
   "metadata": {},
   "outputs": [
    {
     "data": {
      "text/plain": [
       "['python', 'java', 'c', 1, 2, 3]"
      ]
     },
     "execution_count": 67,
     "metadata": {},
     "output_type": "execute_result"
    }
   ],
   "source": [
    "t2"
   ]
  },
  {
   "cell_type": "code",
   "execution_count": 68,
   "id": "945cc3b8",
   "metadata": {},
   "outputs": [],
   "source": [
    "#pop ---> index number to delete element"
   ]
  },
  {
   "cell_type": "code",
   "execution_count": 69,
   "id": "a8d4040f",
   "metadata": {},
   "outputs": [
    {
     "data": {
      "text/plain": [
       "'java'"
      ]
     },
     "execution_count": 69,
     "metadata": {},
     "output_type": "execute_result"
    }
   ],
   "source": [
    "t2.pop(1)"
   ]
  },
  {
   "cell_type": "code",
   "execution_count": 70,
   "id": "2c06298a",
   "metadata": {},
   "outputs": [
    {
     "data": {
      "text/plain": [
       "['python', 'c', 1, 2, 3]"
      ]
     },
     "execution_count": 70,
     "metadata": {},
     "output_type": "execute_result"
    }
   ],
   "source": [
    "t2"
   ]
  },
  {
   "cell_type": "code",
   "execution_count": 71,
   "id": "e90a81e9",
   "metadata": {},
   "outputs": [
    {
     "data": {
      "text/plain": [
       "3"
      ]
     },
     "execution_count": 71,
     "metadata": {},
     "output_type": "execute_result"
    }
   ],
   "source": [
    "t2.pop(-1)"
   ]
  },
  {
   "cell_type": "code",
   "execution_count": 72,
   "id": "681a6b42",
   "metadata": {},
   "outputs": [
    {
     "data": {
      "text/plain": [
       "['python', 'c', 1, 2]"
      ]
     },
     "execution_count": 72,
     "metadata": {},
     "output_type": "execute_result"
    }
   ],
   "source": [
    "t2"
   ]
  },
  {
   "cell_type": "code",
   "execution_count": 73,
   "id": "6ed9f73a",
   "metadata": {},
   "outputs": [
    {
     "data": {
      "text/plain": [
       "['python', 'c', 1, 2]"
      ]
     },
     "execution_count": 73,
     "metadata": {},
     "output_type": "execute_result"
    }
   ],
   "source": [
    "t2\n"
   ]
  },
  {
   "cell_type": "code",
   "execution_count": 74,
   "id": "5c52d21a",
   "metadata": {},
   "outputs": [],
   "source": [
    "t2.remove('python')"
   ]
  },
  {
   "cell_type": "code",
   "execution_count": 75,
   "id": "31795ec9",
   "metadata": {},
   "outputs": [
    {
     "data": {
      "text/plain": [
       "['c', 1, 2]"
      ]
     },
     "execution_count": 75,
     "metadata": {},
     "output_type": "execute_result"
    }
   ],
   "source": [
    "t2"
   ]
  },
  {
   "cell_type": "code",
   "execution_count": 76,
   "id": "a34f9ee5",
   "metadata": {},
   "outputs": [],
   "source": [
    "t2.remove('c')"
   ]
  },
  {
   "cell_type": "code",
   "execution_count": 77,
   "id": "94f65eac",
   "metadata": {},
   "outputs": [],
   "source": [
    "t2.remove(1)"
   ]
  },
  {
   "cell_type": "code",
   "execution_count": 78,
   "id": "aa7d8b42",
   "metadata": {},
   "outputs": [],
   "source": [
    "t2.remove(2)"
   ]
  },
  {
   "cell_type": "code",
   "execution_count": 79,
   "id": "ff7348b4",
   "metadata": {},
   "outputs": [
    {
     "data": {
      "text/plain": [
       "[]"
      ]
     },
     "execution_count": 79,
     "metadata": {},
     "output_type": "execute_result"
    }
   ],
   "source": [
    "t2"
   ]
  },
  {
   "cell_type": "code",
   "execution_count": null,
   "id": "a37f05cd",
   "metadata": {},
   "outputs": [],
   "source": [
    "pop -----> index\n",
    "remove----> element"
   ]
  },
  {
   "cell_type": "code",
   "execution_count": 81,
   "id": "5669dcc9",
   "metadata": {},
   "outputs": [
    {
     "data": {
      "text/plain": [
       "[456, 678, 267, 79]"
      ]
     },
     "execution_count": 81,
     "metadata": {},
     "output_type": "execute_result"
    }
   ],
   "source": [
    "p"
   ]
  },
  {
   "cell_type": "code",
   "execution_count": 84,
   "id": "9d2e55d0",
   "metadata": {},
   "outputs": [
    {
     "data": {
      "text/plain": [
       "267"
      ]
     },
     "execution_count": 84,
     "metadata": {},
     "output_type": "execute_result"
    }
   ],
   "source": [
    "p.pop(2)"
   ]
  },
  {
   "cell_type": "code",
   "execution_count": 85,
   "id": "f9e5bd9b",
   "metadata": {},
   "outputs": [
    {
     "data": {
      "text/plain": [
       "[456, 678, 79]"
      ]
     },
     "execution_count": 85,
     "metadata": {},
     "output_type": "execute_result"
    }
   ],
   "source": [
    "p"
   ]
  },
  {
   "cell_type": "code",
   "execution_count": 86,
   "id": "37cd3879",
   "metadata": {},
   "outputs": [
    {
     "data": {
      "text/plain": [
       "678"
      ]
     },
     "execution_count": 86,
     "metadata": {},
     "output_type": "execute_result"
    }
   ],
   "source": [
    "p.pop(1)"
   ]
  },
  {
   "cell_type": "code",
   "execution_count": 87,
   "id": "4d8544d2",
   "metadata": {},
   "outputs": [
    {
     "data": {
      "text/plain": [
       "[456, 79]"
      ]
     },
     "execution_count": 87,
     "metadata": {},
     "output_type": "execute_result"
    }
   ],
   "source": [
    "p"
   ]
  },
  {
   "cell_type": "code",
   "execution_count": 88,
   "id": "2915c676",
   "metadata": {},
   "outputs": [],
   "source": [
    "p.remove(79)"
   ]
  },
  {
   "cell_type": "code",
   "execution_count": 89,
   "id": "34db4e68",
   "metadata": {},
   "outputs": [
    {
     "data": {
      "text/plain": [
       "[456]"
      ]
     },
     "execution_count": 89,
     "metadata": {},
     "output_type": "execute_result"
    }
   ],
   "source": [
    "p"
   ]
  },
  {
   "cell_type": "code",
   "execution_count": 90,
   "id": "80dfc5e1",
   "metadata": {},
   "outputs": [],
   "source": [
    "p = [1,100,1,1,1,1,1,1,1,1,1,2,3,4,5,5,5,5,]"
   ]
  },
  {
   "cell_type": "code",
   "execution_count": 91,
   "id": "656870f4",
   "metadata": {},
   "outputs": [
    {
     "data": {
      "text/plain": [
       "[1, 100, 1, 1, 1, 1, 1, 1, 1, 1, 1, 2, 3, 4, 5, 5, 5, 5]"
      ]
     },
     "execution_count": 91,
     "metadata": {},
     "output_type": "execute_result"
    }
   ],
   "source": [
    "p"
   ]
  },
  {
   "cell_type": "code",
   "execution_count": 92,
   "id": "899918e9",
   "metadata": {},
   "outputs": [],
   "source": [
    "p.remove(1)"
   ]
  },
  {
   "cell_type": "code",
   "execution_count": 93,
   "id": "3842869a",
   "metadata": {},
   "outputs": [
    {
     "data": {
      "text/plain": [
       "[100, 1, 1, 1, 1, 1, 1, 1, 1, 1, 2, 3, 4, 5, 5, 5, 5]"
      ]
     },
     "execution_count": 93,
     "metadata": {},
     "output_type": "execute_result"
    }
   ],
   "source": [
    "p"
   ]
  },
  {
   "cell_type": "code",
   "execution_count": 94,
   "id": "5ffe85d5",
   "metadata": {},
   "outputs": [],
   "source": [
    "t1 = [456, 79,456]"
   ]
  },
  {
   "cell_type": "code",
   "execution_count": 95,
   "id": "2fc9f573",
   "metadata": {},
   "outputs": [],
   "source": [
    "t1.remove(456)"
   ]
  },
  {
   "cell_type": "code",
   "execution_count": 96,
   "id": "b6f4691a",
   "metadata": {},
   "outputs": [
    {
     "data": {
      "text/plain": [
       "[79, 456]"
      ]
     },
     "execution_count": 96,
     "metadata": {},
     "output_type": "execute_result"
    }
   ],
   "source": [
    "t1"
   ]
  },
  {
   "cell_type": "code",
   "execution_count": 102,
   "id": "96f00e81",
   "metadata": {},
   "outputs": [],
   "source": [
    "p = [1,5,78,8]"
   ]
  },
  {
   "cell_type": "code",
   "execution_count": 103,
   "id": "b1e8af80",
   "metadata": {},
   "outputs": [
    {
     "data": {
      "text/plain": [
       "[1, 5, 78, 8]"
      ]
     },
     "execution_count": 103,
     "metadata": {},
     "output_type": "execute_result"
    }
   ],
   "source": [
    "p"
   ]
  },
  {
   "cell_type": "code",
   "execution_count": 104,
   "id": "98943234",
   "metadata": {},
   "outputs": [
    {
     "data": {
      "text/plain": [
       "4"
      ]
     },
     "execution_count": 104,
     "metadata": {},
     "output_type": "execute_result"
    }
   ],
   "source": [
    "len(p)"
   ]
  },
  {
   "cell_type": "code",
   "execution_count": 105,
   "id": "2809ddfc",
   "metadata": {},
   "outputs": [
    {
     "data": {
      "text/plain": [
       "[1, 5, 78, 8]"
      ]
     },
     "execution_count": 105,
     "metadata": {},
     "output_type": "execute_result"
    }
   ],
   "source": [
    "p"
   ]
  },
  {
   "cell_type": "code",
   "execution_count": 106,
   "id": "4b458405",
   "metadata": {},
   "outputs": [
    {
     "data": {
      "text/plain": [
       "2"
      ]
     },
     "execution_count": 106,
     "metadata": {},
     "output_type": "execute_result"
    }
   ],
   "source": [
    "p.index(78)"
   ]
  },
  {
   "cell_type": "code",
   "execution_count": 107,
   "id": "ef65daba",
   "metadata": {},
   "outputs": [],
   "source": [
    " p = [1,200,2,200,3,4,56,6778,]"
   ]
  },
  {
   "cell_type": "code",
   "execution_count": 108,
   "id": "ca32def4",
   "metadata": {},
   "outputs": [
    {
     "data": {
      "text/plain": [
       "[1, 200, 2, 200, 3, 4, 56, 6778]"
      ]
     },
     "execution_count": 108,
     "metadata": {},
     "output_type": "execute_result"
    }
   ],
   "source": [
    "p"
   ]
  },
  {
   "cell_type": "code",
   "execution_count": 112,
   "id": "0fb1ad99",
   "metadata": {},
   "outputs": [
    {
     "data": {
      "text/plain": [
       "1"
      ]
     },
     "execution_count": 112,
     "metadata": {},
     "output_type": "execute_result"
    }
   ],
   "source": [
    "p.index(200)"
   ]
  },
  {
   "cell_type": "code",
   "execution_count": 110,
   "id": "383bff55",
   "metadata": {},
   "outputs": [
    {
     "data": {
      "text/plain": [
       "6"
      ]
     },
     "execution_count": 110,
     "metadata": {},
     "output_type": "execute_result"
    }
   ],
   "source": [
    "p.index(56)"
   ]
  },
  {
   "cell_type": "code",
   "execution_count": 113,
   "id": "78f9e304",
   "metadata": {},
   "outputs": [
    {
     "data": {
      "text/plain": [
       "56"
      ]
     },
     "execution_count": 113,
     "metadata": {},
     "output_type": "execute_result"
    }
   ],
   "source": [
    "p[6]"
   ]
  },
  {
   "cell_type": "code",
   "execution_count": 114,
   "id": "f2f1018f",
   "metadata": {},
   "outputs": [
    {
     "data": {
      "text/plain": [
       "200"
      ]
     },
     "execution_count": 114,
     "metadata": {},
     "output_type": "execute_result"
    }
   ],
   "source": [
    "p[3]"
   ]
  },
  {
   "cell_type": "code",
   "execution_count": null,
   "id": "0d4a3523",
   "metadata": {},
   "outputs": [],
   "source": [
    "index --->"
   ]
  },
  {
   "cell_type": "code",
   "execution_count": null,
   "id": "b35af8d3",
   "metadata": {},
   "outputs": [],
   "source": []
  },
  {
   "cell_type": "code",
   "execution_count": 1,
   "id": "2eb12fb2",
   "metadata": {},
   "outputs": [],
   "source": [
    "p = [1,2,3]"
   ]
  },
  {
   "cell_type": "code",
   "execution_count": 2,
   "id": "707526c4",
   "metadata": {},
   "outputs": [
    {
     "data": {
      "text/plain": [
       "1941078616448"
      ]
     },
     "execution_count": 2,
     "metadata": {},
     "output_type": "execute_result"
    }
   ],
   "source": [
    "id(p)"
   ]
  },
  {
   "cell_type": "code",
   "execution_count": 3,
   "id": "15ff0179",
   "metadata": {},
   "outputs": [
    {
     "data": {
      "text/plain": [
       "140713526830928"
      ]
     },
     "execution_count": 3,
     "metadata": {},
     "output_type": "execute_result"
    }
   ],
   "source": [
    "id(p[1])"
   ]
  },
  {
   "cell_type": "code",
   "execution_count": 4,
   "id": "8ed58d79",
   "metadata": {},
   "outputs": [
    {
     "data": {
      "text/plain": [
       "[1, 2, 3]"
      ]
     },
     "execution_count": 4,
     "metadata": {},
     "output_type": "execute_result"
    }
   ],
   "source": [
    "p"
   ]
  },
  {
   "cell_type": "code",
   "execution_count": 5,
   "id": "33471819",
   "metadata": {},
   "outputs": [],
   "source": [
    "a = 10"
   ]
  },
  {
   "cell_type": "code",
   "execution_count": 6,
   "id": "119bfb97",
   "metadata": {},
   "outputs": [],
   "source": [
    "b = 10"
   ]
  },
  {
   "cell_type": "code",
   "execution_count": 7,
   "id": "2b9b3adc",
   "metadata": {},
   "outputs": [],
   "source": [
    "c = 10"
   ]
  },
  {
   "cell_type": "code",
   "execution_count": 8,
   "id": "98e62e16",
   "metadata": {},
   "outputs": [
    {
     "data": {
      "text/plain": [
       "140713526831184"
      ]
     },
     "execution_count": 8,
     "metadata": {},
     "output_type": "execute_result"
    }
   ],
   "source": [
    "id(a)"
   ]
  },
  {
   "cell_type": "code",
   "execution_count": 9,
   "id": "a00e5c0d",
   "metadata": {},
   "outputs": [
    {
     "data": {
      "text/plain": [
       "140713526831184"
      ]
     },
     "execution_count": 9,
     "metadata": {},
     "output_type": "execute_result"
    }
   ],
   "source": [
    "id(b)"
   ]
  },
  {
   "cell_type": "code",
   "execution_count": 10,
   "id": "735c20d8",
   "metadata": {},
   "outputs": [
    {
     "data": {
      "text/plain": [
       "140713526831184"
      ]
     },
     "execution_count": 10,
     "metadata": {},
     "output_type": "execute_result"
    }
   ],
   "source": [
    "id(c)"
   ]
  },
  {
   "cell_type": "code",
   "execution_count": null,
   "id": "c0307e2e",
   "metadata": {},
   "outputs": [],
   "source": [
    "insert\n",
    "aapend\n",
    "extend ---> add multiple elements at the last location"
   ]
  },
  {
   "cell_type": "code",
   "execution_count": null,
   "id": "6237654c",
   "metadata": {},
   "outputs": [],
   "source": [
    "delete\n",
    "\n",
    "pop\n",
    "remove"
   ]
  },
  {
   "cell_type": "code",
   "execution_count": 11,
   "id": "51d542b4",
   "metadata": {},
   "outputs": [
    {
     "data": {
      "text/plain": [
       "[1, 2, 3]"
      ]
     },
     "execution_count": 11,
     "metadata": {},
     "output_type": "execute_result"
    }
   ],
   "source": [
    "p"
   ]
  },
  {
   "cell_type": "code",
   "execution_count": 12,
   "id": "db7cb5c9",
   "metadata": {},
   "outputs": [
    {
     "data": {
      "text/plain": [
       "2"
      ]
     },
     "execution_count": 12,
     "metadata": {},
     "output_type": "execute_result"
    }
   ],
   "source": [
    "p.pop(1)"
   ]
  },
  {
   "cell_type": "code",
   "execution_count": null,
   "id": "3ca25ddf",
   "metadata": {},
   "outputs": [],
   "source": []
  },
  {
   "cell_type": "code",
   "execution_count": 13,
   "id": "9651dfad",
   "metadata": {},
   "outputs": [
    {
     "data": {
      "text/plain": [
       "[1, 3]"
      ]
     },
     "execution_count": 13,
     "metadata": {},
     "output_type": "execute_result"
    }
   ],
   "source": [
    "p"
   ]
  },
  {
   "cell_type": "code",
   "execution_count": 36,
   "id": "eb53924b",
   "metadata": {},
   "outputs": [],
   "source": [
    "p = ['python','ml','DS','AI','DL']"
   ]
  },
  {
   "cell_type": "code",
   "execution_count": 16,
   "id": "6146a270",
   "metadata": {},
   "outputs": [],
   "source": [
    "p.remove('ml')"
   ]
  },
  {
   "cell_type": "code",
   "execution_count": 18,
   "id": "db394056",
   "metadata": {},
   "outputs": [
    {
     "data": {
      "text/plain": [
       "['python', 'DS', 'AI', 'DL']"
      ]
     },
     "execution_count": 18,
     "metadata": {},
     "output_type": "execute_result"
    }
   ],
   "source": [
    "p"
   ]
  },
  {
   "cell_type": "code",
   "execution_count": 20,
   "id": "cb18cec3",
   "metadata": {},
   "outputs": [],
   "source": [
    "deleted_element = p.pop(-2)"
   ]
  },
  {
   "cell_type": "code",
   "execution_count": 21,
   "id": "73062945",
   "metadata": {},
   "outputs": [
    {
     "data": {
      "text/plain": [
       "'AI'"
      ]
     },
     "execution_count": 21,
     "metadata": {},
     "output_type": "execute_result"
    }
   ],
   "source": [
    "deleted_element"
   ]
  },
  {
   "cell_type": "code",
   "execution_count": 22,
   "id": "3011b65f",
   "metadata": {},
   "outputs": [],
   "source": [
    "dl = []"
   ]
  },
  {
   "cell_type": "code",
   "execution_count": 24,
   "id": "f9fac66d",
   "metadata": {},
   "outputs": [],
   "source": [
    "dl.append(p.pop(1))"
   ]
  },
  {
   "cell_type": "code",
   "execution_count": 25,
   "id": "bfba722e",
   "metadata": {},
   "outputs": [
    {
     "data": {
      "text/plain": [
       "['DS']"
      ]
     },
     "execution_count": 25,
     "metadata": {},
     "output_type": "execute_result"
    }
   ],
   "source": [
    "dl"
   ]
  },
  {
   "cell_type": "code",
   "execution_count": 27,
   "id": "314265f2",
   "metadata": {},
   "outputs": [
    {
     "data": {
      "text/plain": [
       "['python', 'ml', 'DS', 'AI', 'DL']"
      ]
     },
     "execution_count": 27,
     "metadata": {},
     "output_type": "execute_result"
    }
   ],
   "source": [
    "p"
   ]
  },
  {
   "cell_type": "code",
   "execution_count": 28,
   "id": "a7c96a2e",
   "metadata": {},
   "outputs": [],
   "source": [
    "processed_list = []"
   ]
  },
  {
   "cell_type": "code",
   "execution_count": 29,
   "id": "56e252c1",
   "metadata": {},
   "outputs": [
    {
     "data": {
      "text/plain": [
       "'python'"
      ]
     },
     "execution_count": 29,
     "metadata": {},
     "output_type": "execute_result"
    }
   ],
   "source": [
    "p.pop(0)"
   ]
  },
  {
   "cell_type": "code",
   "execution_count": 30,
   "id": "5c5ecdc5",
   "metadata": {},
   "outputs": [
    {
     "data": {
      "text/plain": [
       "['ml', 'DS', 'AI', 'DL']"
      ]
     },
     "execution_count": 30,
     "metadata": {},
     "output_type": "execute_result"
    }
   ],
   "source": [
    "p"
   ]
  },
  {
   "cell_type": "code",
   "execution_count": 32,
   "id": "92e75b84",
   "metadata": {},
   "outputs": [
    {
     "data": {
      "text/plain": [
       "['ml', 'AI', 'DL']"
      ]
     },
     "execution_count": 32,
     "metadata": {},
     "output_type": "execute_result"
    }
   ],
   "source": [
    "p"
   ]
  },
  {
   "cell_type": "code",
   "execution_count": null,
   "id": "8c341958",
   "metadata": {},
   "outputs": [],
   "source": [
    "pop ---> index\n",
    "remove ---> element\n",
    "\n",
    "clear() ---> delete all the elements"
   ]
  },
  {
   "cell_type": "code",
   "execution_count": 33,
   "id": "30a31ad1",
   "metadata": {},
   "outputs": [
    {
     "data": {
      "text/plain": [
       "['ml', 'AI', 'DL']"
      ]
     },
     "execution_count": 33,
     "metadata": {},
     "output_type": "execute_result"
    }
   ],
   "source": [
    "p"
   ]
  },
  {
   "cell_type": "code",
   "execution_count": 34,
   "id": "cc2103aa",
   "metadata": {},
   "outputs": [],
   "source": [
    "p.clear()"
   ]
  },
  {
   "cell_type": "code",
   "execution_count": 35,
   "id": "e5fd9779",
   "metadata": {},
   "outputs": [
    {
     "data": {
      "text/plain": [
       "[]"
      ]
     },
     "execution_count": 35,
     "metadata": {},
     "output_type": "execute_result"
    }
   ],
   "source": [
    "p"
   ]
  },
  {
   "cell_type": "code",
   "execution_count": 37,
   "id": "0822f509",
   "metadata": {},
   "outputs": [
    {
     "data": {
      "text/plain": [
       "['python', 'ml', 'DS', 'AI', 'DL']"
      ]
     },
     "execution_count": 37,
     "metadata": {},
     "output_type": "execute_result"
    }
   ],
   "source": [
    "p"
   ]
  },
  {
   "cell_type": "code",
   "execution_count": 38,
   "id": "1b20885b",
   "metadata": {},
   "outputs": [],
   "source": [
    "p = [3,9,6,8,3,7,9,3,8]"
   ]
  },
  {
   "cell_type": "code",
   "execution_count": 39,
   "id": "312c319c",
   "metadata": {},
   "outputs": [],
   "source": [
    "p.sort()"
   ]
  },
  {
   "cell_type": "code",
   "execution_count": 40,
   "id": "d34ba7a3",
   "metadata": {},
   "outputs": [
    {
     "data": {
      "text/plain": [
       "[3, 3, 3, 6, 7, 8, 8, 9, 9]"
      ]
     },
     "execution_count": 40,
     "metadata": {},
     "output_type": "execute_result"
    }
   ],
   "source": [
    "p"
   ]
  },
  {
   "cell_type": "code",
   "execution_count": 1,
   "id": "f4432378",
   "metadata": {},
   "outputs": [],
   "source": [
    "p = [100,5,98,65,78,36,46,200]"
   ]
  },
  {
   "cell_type": "code",
   "execution_count": 42,
   "id": "5f439b90",
   "metadata": {},
   "outputs": [],
   "source": [
    "p.sort()"
   ]
  },
  {
   "cell_type": "code",
   "execution_count": 43,
   "id": "b522d9e2",
   "metadata": {},
   "outputs": [
    {
     "data": {
      "text/plain": [
       "[5, 36, 46, 65, 78, 98, 100, 200]"
      ]
     },
     "execution_count": 43,
     "metadata": {},
     "output_type": "execute_result"
    }
   ],
   "source": [
    "p"
   ]
  },
  {
   "cell_type": "code",
   "execution_count": null,
   "id": "f2d5ba69",
   "metadata": {},
   "outputs": [],
   "source": []
  },
  {
   "cell_type": "code",
   "execution_count": null,
   "id": "bf29438d",
   "metadata": {},
   "outputs": [],
   "source": []
  },
  {
   "cell_type": "code",
   "execution_count": 45,
   "id": "3a44455f",
   "metadata": {},
   "outputs": [
    {
     "data": {
      "text/plain": [
       "[100, 5, 98, 65, 78, 36, 46, 200]"
      ]
     },
     "execution_count": 45,
     "metadata": {},
     "output_type": "execute_result"
    }
   ],
   "source": [
    "p"
   ]
  },
  {
   "cell_type": "code",
   "execution_count": 46,
   "id": "2752ed87",
   "metadata": {},
   "outputs": [],
   "source": [
    "p.sort(reverse=True)"
   ]
  },
  {
   "cell_type": "code",
   "execution_count": 47,
   "id": "9e1b5dcc",
   "metadata": {},
   "outputs": [
    {
     "data": {
      "text/plain": [
       "[200, 100, 98, 78, 65, 46, 36, 5]"
      ]
     },
     "execution_count": 47,
     "metadata": {},
     "output_type": "execute_result"
    }
   ],
   "source": [
    "p"
   ]
  },
  {
   "cell_type": "code",
   "execution_count": null,
   "id": "52a2ba97",
   "metadata": {},
   "outputs": [],
   "source": []
  },
  {
   "cell_type": "code",
   "execution_count": null,
   "id": "2525e64d",
   "metadata": {},
   "outputs": [],
   "source": []
  },
  {
   "cell_type": "code",
   "execution_count": null,
   "id": "7847adfa",
   "metadata": {},
   "outputs": [],
   "source": []
  },
  {
   "cell_type": "code",
   "execution_count": null,
   "id": "f8d176f6",
   "metadata": {},
   "outputs": [],
   "source": []
  },
  {
   "cell_type": "code",
   "execution_count": 48,
   "id": "4afab4ae",
   "metadata": {},
   "outputs": [
    {
     "data": {
      "text/plain": [
       "[200, 100, 98, 78, 65, 46, 36, 5]"
      ]
     },
     "execution_count": 48,
     "metadata": {},
     "output_type": "execute_result"
    }
   ],
   "source": [
    "p"
   ]
  },
  {
   "cell_type": "code",
   "execution_count": 49,
   "id": "be7c216b",
   "metadata": {},
   "outputs": [
    {
     "data": {
      "text/plain": [
       "98"
      ]
     },
     "execution_count": 49,
     "metadata": {},
     "output_type": "execute_result"
    }
   ],
   "source": [
    "p.pop(2)"
   ]
  },
  {
   "cell_type": "code",
   "execution_count": 51,
   "id": "4946c54e",
   "metadata": {},
   "outputs": [],
   "source": [
    "p.remove(78)"
   ]
  },
  {
   "cell_type": "code",
   "execution_count": 52,
   "id": "11aa2ca9",
   "metadata": {},
   "outputs": [],
   "source": [
    "del p"
   ]
  },
  {
   "cell_type": "code",
   "execution_count": null,
   "id": "521f09c2",
   "metadata": {},
   "outputs": [],
   "source": []
  },
  {
   "cell_type": "code",
   "execution_count": 55,
   "id": "8a7bd9e2",
   "metadata": {},
   "outputs": [],
   "source": [
    "p = [1,4,7,8]"
   ]
  },
  {
   "cell_type": "code",
   "execution_count": 61,
   "id": "cb1fd09f",
   "metadata": {},
   "outputs": [
    {
     "name": "stdout",
     "output_type": "stream",
     "text": [
      "acc,name,bal\n",
      "101,keshav,45000\n",
      "103,madhav,9464\n",
      "106,jon,3216316\n"
     ]
    }
   ],
   "source": [
    "with open('test.txt') as g:\n",
    "    data = g.read()\n",
    "    print(data)"
   ]
  },
  {
   "cell_type": "code",
   "execution_count": 58,
   "id": "9028bed1",
   "metadata": {},
   "outputs": [
    {
     "data": {
      "text/html": [
       "<div>\n",
       "<style scoped>\n",
       "    .dataframe tbody tr th:only-of-type {\n",
       "        vertical-align: middle;\n",
       "    }\n",
       "\n",
       "    .dataframe tbody tr th {\n",
       "        vertical-align: top;\n",
       "    }\n",
       "\n",
       "    .dataframe thead th {\n",
       "        text-align: right;\n",
       "    }\n",
       "</style>\n",
       "<table border=\"1\" class=\"dataframe\">\n",
       "  <thead>\n",
       "    <tr style=\"text-align: right;\">\n",
       "      <th></th>\n",
       "      <th>PassengerId</th>\n",
       "      <th>Survived</th>\n",
       "      <th>Pclass</th>\n",
       "      <th>Name</th>\n",
       "      <th>Sex</th>\n",
       "      <th>Age</th>\n",
       "      <th>SibSp</th>\n",
       "      <th>Parch</th>\n",
       "      <th>Ticket</th>\n",
       "      <th>Fare</th>\n",
       "      <th>Cabin</th>\n",
       "      <th>Embarked</th>\n",
       "    </tr>\n",
       "  </thead>\n",
       "  <tbody>\n",
       "    <tr>\n",
       "      <th>0</th>\n",
       "      <td>892</td>\n",
       "      <td>0</td>\n",
       "      <td>3</td>\n",
       "      <td>Kelly, Mr. James</td>\n",
       "      <td>male</td>\n",
       "      <td>34.5</td>\n",
       "      <td>0</td>\n",
       "      <td>0</td>\n",
       "      <td>330911</td>\n",
       "      <td>7.8292</td>\n",
       "      <td>NaN</td>\n",
       "      <td>Q</td>\n",
       "    </tr>\n",
       "    <tr>\n",
       "      <th>1</th>\n",
       "      <td>893</td>\n",
       "      <td>1</td>\n",
       "      <td>3</td>\n",
       "      <td>Wilkes, Mrs. James (Ellen Needs)</td>\n",
       "      <td>female</td>\n",
       "      <td>47.0</td>\n",
       "      <td>1</td>\n",
       "      <td>0</td>\n",
       "      <td>363272</td>\n",
       "      <td>7.0000</td>\n",
       "      <td>NaN</td>\n",
       "      <td>S</td>\n",
       "    </tr>\n",
       "    <tr>\n",
       "      <th>2</th>\n",
       "      <td>894</td>\n",
       "      <td>0</td>\n",
       "      <td>2</td>\n",
       "      <td>Myles, Mr. Thomas Francis</td>\n",
       "      <td>male</td>\n",
       "      <td>62.0</td>\n",
       "      <td>0</td>\n",
       "      <td>0</td>\n",
       "      <td>240276</td>\n",
       "      <td>9.6875</td>\n",
       "      <td>NaN</td>\n",
       "      <td>Q</td>\n",
       "    </tr>\n",
       "    <tr>\n",
       "      <th>3</th>\n",
       "      <td>895</td>\n",
       "      <td>0</td>\n",
       "      <td>3</td>\n",
       "      <td>Wirz, Mr. Albert</td>\n",
       "      <td>male</td>\n",
       "      <td>27.0</td>\n",
       "      <td>0</td>\n",
       "      <td>0</td>\n",
       "      <td>315154</td>\n",
       "      <td>8.6625</td>\n",
       "      <td>NaN</td>\n",
       "      <td>S</td>\n",
       "    </tr>\n",
       "    <tr>\n",
       "      <th>4</th>\n",
       "      <td>896</td>\n",
       "      <td>1</td>\n",
       "      <td>3</td>\n",
       "      <td>Hirvonen, Mrs. Alexander (Helga E Lindqvist)</td>\n",
       "      <td>female</td>\n",
       "      <td>22.0</td>\n",
       "      <td>1</td>\n",
       "      <td>1</td>\n",
       "      <td>3101298</td>\n",
       "      <td>12.2875</td>\n",
       "      <td>NaN</td>\n",
       "      <td>S</td>\n",
       "    </tr>\n",
       "    <tr>\n",
       "      <th>...</th>\n",
       "      <td>...</td>\n",
       "      <td>...</td>\n",
       "      <td>...</td>\n",
       "      <td>...</td>\n",
       "      <td>...</td>\n",
       "      <td>...</td>\n",
       "      <td>...</td>\n",
       "      <td>...</td>\n",
       "      <td>...</td>\n",
       "      <td>...</td>\n",
       "      <td>...</td>\n",
       "      <td>...</td>\n",
       "    </tr>\n",
       "    <tr>\n",
       "      <th>413</th>\n",
       "      <td>1305</td>\n",
       "      <td>0</td>\n",
       "      <td>3</td>\n",
       "      <td>Spector, Mr. Woolf</td>\n",
       "      <td>male</td>\n",
       "      <td>NaN</td>\n",
       "      <td>0</td>\n",
       "      <td>0</td>\n",
       "      <td>A.5. 3236</td>\n",
       "      <td>8.0500</td>\n",
       "      <td>NaN</td>\n",
       "      <td>S</td>\n",
       "    </tr>\n",
       "    <tr>\n",
       "      <th>414</th>\n",
       "      <td>1306</td>\n",
       "      <td>1</td>\n",
       "      <td>1</td>\n",
       "      <td>Oliva y Ocana, Dona. Fermina</td>\n",
       "      <td>female</td>\n",
       "      <td>39.0</td>\n",
       "      <td>0</td>\n",
       "      <td>0</td>\n",
       "      <td>PC 17758</td>\n",
       "      <td>108.9000</td>\n",
       "      <td>C105</td>\n",
       "      <td>C</td>\n",
       "    </tr>\n",
       "    <tr>\n",
       "      <th>415</th>\n",
       "      <td>1307</td>\n",
       "      <td>0</td>\n",
       "      <td>3</td>\n",
       "      <td>Saether, Mr. Simon Sivertsen</td>\n",
       "      <td>male</td>\n",
       "      <td>38.5</td>\n",
       "      <td>0</td>\n",
       "      <td>0</td>\n",
       "      <td>SOTON/O.Q. 3101262</td>\n",
       "      <td>7.2500</td>\n",
       "      <td>NaN</td>\n",
       "      <td>S</td>\n",
       "    </tr>\n",
       "    <tr>\n",
       "      <th>416</th>\n",
       "      <td>1308</td>\n",
       "      <td>0</td>\n",
       "      <td>3</td>\n",
       "      <td>Ware, Mr. Frederick</td>\n",
       "      <td>male</td>\n",
       "      <td>NaN</td>\n",
       "      <td>0</td>\n",
       "      <td>0</td>\n",
       "      <td>359309</td>\n",
       "      <td>8.0500</td>\n",
       "      <td>NaN</td>\n",
       "      <td>S</td>\n",
       "    </tr>\n",
       "    <tr>\n",
       "      <th>417</th>\n",
       "      <td>1309</td>\n",
       "      <td>0</td>\n",
       "      <td>3</td>\n",
       "      <td>Peter, Master. Michael J</td>\n",
       "      <td>male</td>\n",
       "      <td>NaN</td>\n",
       "      <td>1</td>\n",
       "      <td>1</td>\n",
       "      <td>2668</td>\n",
       "      <td>22.3583</td>\n",
       "      <td>NaN</td>\n",
       "      <td>C</td>\n",
       "    </tr>\n",
       "  </tbody>\n",
       "</table>\n",
       "<p>418 rows × 12 columns</p>\n",
       "</div>"
      ],
      "text/plain": [
       "     PassengerId  Survived  Pclass  \\\n",
       "0            892         0       3   \n",
       "1            893         1       3   \n",
       "2            894         0       2   \n",
       "3            895         0       3   \n",
       "4            896         1       3   \n",
       "..           ...       ...     ...   \n",
       "413         1305         0       3   \n",
       "414         1306         1       1   \n",
       "415         1307         0       3   \n",
       "416         1308         0       3   \n",
       "417         1309         0       3   \n",
       "\n",
       "                                             Name     Sex   Age  SibSp  Parch  \\\n",
       "0                                Kelly, Mr. James    male  34.5      0      0   \n",
       "1                Wilkes, Mrs. James (Ellen Needs)  female  47.0      1      0   \n",
       "2                       Myles, Mr. Thomas Francis    male  62.0      0      0   \n",
       "3                                Wirz, Mr. Albert    male  27.0      0      0   \n",
       "4    Hirvonen, Mrs. Alexander (Helga E Lindqvist)  female  22.0      1      1   \n",
       "..                                            ...     ...   ...    ...    ...   \n",
       "413                            Spector, Mr. Woolf    male   NaN      0      0   \n",
       "414                  Oliva y Ocana, Dona. Fermina  female  39.0      0      0   \n",
       "415                  Saether, Mr. Simon Sivertsen    male  38.5      0      0   \n",
       "416                           Ware, Mr. Frederick    male   NaN      0      0   \n",
       "417                      Peter, Master. Michael J    male   NaN      1      1   \n",
       "\n",
       "                 Ticket      Fare Cabin Embarked  \n",
       "0                330911    7.8292   NaN        Q  \n",
       "1                363272    7.0000   NaN        S  \n",
       "2                240276    9.6875   NaN        Q  \n",
       "3                315154    8.6625   NaN        S  \n",
       "4               3101298   12.2875   NaN        S  \n",
       "..                  ...       ...   ...      ...  \n",
       "413           A.5. 3236    8.0500   NaN        S  \n",
       "414            PC 17758  108.9000  C105        C  \n",
       "415  SOTON/O.Q. 3101262    7.2500   NaN        S  \n",
       "416              359309    8.0500   NaN        S  \n",
       "417                2668   22.3583   NaN        C  \n",
       "\n",
       "[418 rows x 12 columns]"
      ]
     },
     "execution_count": 58,
     "metadata": {},
     "output_type": "execute_result"
    }
   ],
   "source": [
    "import pandas as pd\n",
    "\n",
    "pd.read_csv('C:\\\\Users\\\\kanti\\\\OneDrive\\\\Desktop\\\\tested.csv')"
   ]
  },
  {
   "cell_type": "code",
   "execution_count": 60,
   "id": "b5b4e0ed",
   "metadata": {},
   "outputs": [
    {
     "data": {
      "text/plain": [
       "[1, 4, 7, 8]"
      ]
     },
     "execution_count": 60,
     "metadata": {},
     "output_type": "execute_result"
    }
   ],
   "source": [
    "p"
   ]
  },
  {
   "cell_type": "code",
   "execution_count": 62,
   "id": "2f09efd4",
   "metadata": {},
   "outputs": [],
   "source": [
    "import csv"
   ]
  },
  {
   "cell_type": "code",
   "execution_count": 67,
   "id": "d911fbe5",
   "metadata": {},
   "outputs": [],
   "source": [
    "with open('test.csv') as fp:\n",
    "    read_obj= csv.reader(fp)\n",
    "    data = list(read_obj)"
   ]
  },
  {
   "cell_type": "code",
   "execution_count": 68,
   "id": "f81afd89",
   "metadata": {},
   "outputs": [
    {
     "name": "stdout",
     "output_type": "stream",
     "text": [
      "[['acc', 'name', 'bal'], ['101', 'keshav', '45000'], ['103', 'madhav', '9464'], ['106', 'jon', '3216316']]\n"
     ]
    }
   ],
   "source": [
    "print(data)"
   ]
  },
  {
   "cell_type": "code",
   "execution_count": 66,
   "id": "7a95da7d",
   "metadata": {},
   "outputs": [
    {
     "data": {
      "text/plain": [
       "'3216316'"
      ]
     },
     "execution_count": 66,
     "metadata": {},
     "output_type": "execute_result"
    }
   ],
   "source": [
    "data[3][2]"
   ]
  },
  {
   "cell_type": "code",
   "execution_count": 69,
   "id": "bfd75d33",
   "metadata": {},
   "outputs": [
    {
     "data": {
      "text/html": [
       "<div>\n",
       "<style scoped>\n",
       "    .dataframe tbody tr th:only-of-type {\n",
       "        vertical-align: middle;\n",
       "    }\n",
       "\n",
       "    .dataframe tbody tr th {\n",
       "        vertical-align: top;\n",
       "    }\n",
       "\n",
       "    .dataframe thead th {\n",
       "        text-align: right;\n",
       "    }\n",
       "</style>\n",
       "<table border=\"1\" class=\"dataframe\">\n",
       "  <thead>\n",
       "    <tr style=\"text-align: right;\">\n",
       "      <th></th>\n",
       "      <th>price</th>\n",
       "      <th>name</th>\n",
       "      <th>rating</th>\n",
       "      <th>image</th>\n",
       "      <th>id</th>\n",
       "    </tr>\n",
       "  </thead>\n",
       "  <tbody>\n",
       "    <tr>\n",
       "      <th>0</th>\n",
       "      <td>$16.99</td>\n",
       "      <td>Founders All Day IPA</td>\n",
       "      <td>{'average': 4.411243509154233, 'reviews': 453}</td>\n",
       "      <td>https://www.totalwine.com/media/sys_master/twm...</td>\n",
       "      <td>1</td>\n",
       "    </tr>\n",
       "    <tr>\n",
       "      <th>1</th>\n",
       "      <td>$13.99</td>\n",
       "      <td>Blue Moon Belgian White Belgian-Style Wheat Ale</td>\n",
       "      <td>{'average': 4.7752608333834825, 'reviews': 305}</td>\n",
       "      <td>https://www.totalwine.com/media/sys_master/twm...</td>\n",
       "      <td>2</td>\n",
       "    </tr>\n",
       "    <tr>\n",
       "      <th>2</th>\n",
       "      <td>$16.99</td>\n",
       "      <td>Guinness Extra Stout</td>\n",
       "      <td>{'average': 3.978596147459463, 'reviews': 119}</td>\n",
       "      <td>https://www.totalwine.com/media/sys_master/twm...</td>\n",
       "      <td>3</td>\n",
       "    </tr>\n",
       "    <tr>\n",
       "      <th>3</th>\n",
       "      <td>$8.99</td>\n",
       "      <td>Guinness Extra Stout</td>\n",
       "      <td>{'average': 3.513546096196171, 'reviews': 199}</td>\n",
       "      <td>https://www.totalwine.com/media/sys_master/twm...</td>\n",
       "      <td>4</td>\n",
       "    </tr>\n",
       "    <tr>\n",
       "      <th>4</th>\n",
       "      <td>$15.49</td>\n",
       "      <td>Sierra Nevada Pale Ale</td>\n",
       "      <td>{'average': 4.266364643483868, 'reviews': 414}</td>\n",
       "      <td>https://www.totalwine.com/media/sys_master/twm...</td>\n",
       "      <td>5</td>\n",
       "    </tr>\n",
       "    <tr>\n",
       "      <th>...</th>\n",
       "      <td>...</td>\n",
       "      <td>...</td>\n",
       "      <td>...</td>\n",
       "      <td>...</td>\n",
       "      <td>...</td>\n",
       "    </tr>\n",
       "    <tr>\n",
       "      <th>175</th>\n",
       "      <td>$17.99</td>\n",
       "      <td>Piraat Ale</td>\n",
       "      <td>{'average': 4.94233495501944, 'reviews': 185}</td>\n",
       "      <td>https://www.totalwine.com/media/sys_master/twm...</td>\n",
       "      <td>176</td>\n",
       "    </tr>\n",
       "    <tr>\n",
       "      <th>176</th>\n",
       "      <td>$6.49</td>\n",
       "      <td>Lindeman's Framboise</td>\n",
       "      <td>{'average': 3.749494609725903, 'reviews': 321}</td>\n",
       "      <td>https://www.totalwine.com/media/sys_master/twm...</td>\n",
       "      <td>177</td>\n",
       "    </tr>\n",
       "    <tr>\n",
       "      <th>177</th>\n",
       "      <td>$13.99</td>\n",
       "      <td>Blue Moon Belgian White Belgian-Style Wheat Ale</td>\n",
       "      <td>{'average': 2.323260489551802, 'reviews': 132}</td>\n",
       "      <td>https://www.totalwine.com/media/sys_master/twm...</td>\n",
       "      <td>178</td>\n",
       "    </tr>\n",
       "    <tr>\n",
       "      <th>178</th>\n",
       "      <td>$9.99</td>\n",
       "      <td>Founders All Day IPA</td>\n",
       "      <td>{'average': 5, 'reviews': 462}</td>\n",
       "      <td>https://www.totalwine.com/media/sys_master/twm...</td>\n",
       "      <td>179</td>\n",
       "    </tr>\n",
       "    <tr>\n",
       "      <th>179</th>\n",
       "      <td>$11.99</td>\n",
       "      <td>Chimay Cinq Cents White Triple</td>\n",
       "      <td>{'average': 1.997464538301898, 'reviews': 89}</td>\n",
       "      <td>https://www.totalwine.com/media/sys_master/twm...</td>\n",
       "      <td>180</td>\n",
       "    </tr>\n",
       "  </tbody>\n",
       "</table>\n",
       "<p>180 rows × 5 columns</p>\n",
       "</div>"
      ],
      "text/plain": [
       "      price                                             name  \\\n",
       "0    $16.99                             Founders All Day IPA   \n",
       "1    $13.99  Blue Moon Belgian White Belgian-Style Wheat Ale   \n",
       "2    $16.99                             Guinness Extra Stout   \n",
       "3     $8.99                             Guinness Extra Stout   \n",
       "4    $15.49                           Sierra Nevada Pale Ale   \n",
       "..      ...                                              ...   \n",
       "175  $17.99                                       Piraat Ale   \n",
       "176   $6.49                             Lindeman's Framboise   \n",
       "177  $13.99  Blue Moon Belgian White Belgian-Style Wheat Ale   \n",
       "178   $9.99                             Founders All Day IPA   \n",
       "179  $11.99                   Chimay Cinq Cents White Triple   \n",
       "\n",
       "                                              rating  \\\n",
       "0     {'average': 4.411243509154233, 'reviews': 453}   \n",
       "1    {'average': 4.7752608333834825, 'reviews': 305}   \n",
       "2     {'average': 3.978596147459463, 'reviews': 119}   \n",
       "3     {'average': 3.513546096196171, 'reviews': 199}   \n",
       "4     {'average': 4.266364643483868, 'reviews': 414}   \n",
       "..                                               ...   \n",
       "175    {'average': 4.94233495501944, 'reviews': 185}   \n",
       "176   {'average': 3.749494609725903, 'reviews': 321}   \n",
       "177   {'average': 2.323260489551802, 'reviews': 132}   \n",
       "178                   {'average': 5, 'reviews': 462}   \n",
       "179    {'average': 1.997464538301898, 'reviews': 89}   \n",
       "\n",
       "                                                 image   id  \n",
       "0    https://www.totalwine.com/media/sys_master/twm...    1  \n",
       "1    https://www.totalwine.com/media/sys_master/twm...    2  \n",
       "2    https://www.totalwine.com/media/sys_master/twm...    3  \n",
       "3    https://www.totalwine.com/media/sys_master/twm...    4  \n",
       "4    https://www.totalwine.com/media/sys_master/twm...    5  \n",
       "..                                                 ...  ...  \n",
       "175  https://www.totalwine.com/media/sys_master/twm...  176  \n",
       "176  https://www.totalwine.com/media/sys_master/twm...  177  \n",
       "177  https://www.totalwine.com/media/sys_master/twm...  178  \n",
       "178  https://www.totalwine.com/media/sys_master/twm...  179  \n",
       "179  https://www.totalwine.com/media/sys_master/twm...  180  \n",
       "\n",
       "[180 rows x 5 columns]"
      ]
     },
     "execution_count": 69,
     "metadata": {},
     "output_type": "execute_result"
    }
   ],
   "source": [
    "pd.read_json('https://api.sampleapis.com/beers/ale')"
   ]
  },
  {
   "cell_type": "code",
   "execution_count": null,
   "id": "e31ce7e8",
   "metadata": {},
   "outputs": [],
   "source": [
    "* daily practice 2hr\n",
    "\n",
    "\n",
    "django -- 4hr\n",
    "\n",
    "codechef\n"
   ]
  },
  {
   "cell_type": "code",
   "execution_count": 2,
   "id": "1d044a63",
   "metadata": {},
   "outputs": [
    {
     "data": {
      "text/plain": [
       "[100, 5, 98, 65, 78, 36, 46, 200]"
      ]
     },
     "execution_count": 2,
     "metadata": {},
     "output_type": "execute_result"
    }
   ],
   "source": [
    "p"
   ]
  },
  {
   "cell_type": "code",
   "execution_count": null,
   "id": "d33908c9",
   "metadata": {},
   "outputs": [],
   "source": [
    "asc/desc"
   ]
  },
  {
   "cell_type": "code",
   "execution_count": 3,
   "id": "08d155d1",
   "metadata": {},
   "outputs": [],
   "source": [
    "p.reverse()"
   ]
  },
  {
   "cell_type": "code",
   "execution_count": 4,
   "id": "707fc71c",
   "metadata": {},
   "outputs": [
    {
     "data": {
      "text/plain": [
       "[200, 46, 36, 78, 65, 98, 5, 100]"
      ]
     },
     "execution_count": 4,
     "metadata": {},
     "output_type": "execute_result"
    }
   ],
   "source": [
    "p"
   ]
  },
  {
   "cell_type": "code",
   "execution_count": null,
   "id": "1eb7eb52",
   "metadata": {},
   "outputs": [],
   "source": [
    "sort --> reverse ---> desc"
   ]
  },
  {
   "cell_type": "code",
   "execution_count": null,
   "id": "94ce5596",
   "metadata": {},
   "outputs": [],
   "source": [
    "copy\n",
    "count"
   ]
  },
  {
   "cell_type": "code",
   "execution_count": null,
   "id": "88b575fe",
   "metadata": {},
   "outputs": [],
   "source": [
    "shallow\n",
    "deep"
   ]
  },
  {
   "cell_type": "code",
   "execution_count": 5,
   "id": "34f65e5c",
   "metadata": {},
   "outputs": [],
   "source": [
    "p = [1,2,3]"
   ]
  },
  {
   "cell_type": "code",
   "execution_count": 6,
   "id": "7922f96a",
   "metadata": {},
   "outputs": [],
   "source": [
    "q = p"
   ]
  },
  {
   "cell_type": "code",
   "execution_count": 7,
   "id": "e1acf19a",
   "metadata": {},
   "outputs": [
    {
     "data": {
      "text/plain": [
       "[1, 2, 3]"
      ]
     },
     "execution_count": 7,
     "metadata": {},
     "output_type": "execute_result"
    }
   ],
   "source": [
    "q"
   ]
  },
  {
   "cell_type": "code",
   "execution_count": 8,
   "id": "b223cec2",
   "metadata": {},
   "outputs": [
    {
     "data": {
      "text/plain": [
       "[1, 2, 3]"
      ]
     },
     "execution_count": 8,
     "metadata": {},
     "output_type": "execute_result"
    }
   ],
   "source": [
    "p"
   ]
  },
  {
   "cell_type": "code",
   "execution_count": 9,
   "id": "1b7f71b8",
   "metadata": {},
   "outputs": [
    {
     "data": {
      "text/plain": [
       "[1, 2, 3]"
      ]
     },
     "execution_count": 9,
     "metadata": {},
     "output_type": "execute_result"
    }
   ],
   "source": [
    "q"
   ]
  },
  {
   "cell_type": "code",
   "execution_count": 11,
   "id": "0d987099",
   "metadata": {},
   "outputs": [],
   "source": [
    "q.insert(3,600)"
   ]
  },
  {
   "cell_type": "code",
   "execution_count": 12,
   "id": "0e676cae",
   "metadata": {},
   "outputs": [
    {
     "data": {
      "text/plain": [
       "[1, 2, 3, 600]"
      ]
     },
     "execution_count": 12,
     "metadata": {},
     "output_type": "execute_result"
    }
   ],
   "source": [
    "q"
   ]
  },
  {
   "cell_type": "code",
   "execution_count": 13,
   "id": "aa28d404",
   "metadata": {},
   "outputs": [
    {
     "data": {
      "text/plain": [
       "[1, 2, 3, 600]"
      ]
     },
     "execution_count": 13,
     "metadata": {},
     "output_type": "execute_result"
    }
   ],
   "source": [
    "p"
   ]
  },
  {
   "cell_type": "code",
   "execution_count": 14,
   "id": "7d7d84d7",
   "metadata": {},
   "outputs": [],
   "source": [
    "py_list = [100,600,700,960,45]"
   ]
  },
  {
   "cell_type": "code",
   "execution_count": 15,
   "id": "f333caab",
   "metadata": {},
   "outputs": [],
   "source": [
    "new_py_list = py_list"
   ]
  },
  {
   "cell_type": "code",
   "execution_count": 16,
   "id": "5266d0a3",
   "metadata": {},
   "outputs": [
    {
     "data": {
      "text/plain": [
       "[100, 600, 700, 960, 45]"
      ]
     },
     "execution_count": 16,
     "metadata": {},
     "output_type": "execute_result"
    }
   ],
   "source": [
    "new_py_list"
   ]
  },
  {
   "cell_type": "code",
   "execution_count": 17,
   "id": "1ba310c5",
   "metadata": {},
   "outputs": [],
   "source": [
    "new_py_list.append('python')"
   ]
  },
  {
   "cell_type": "code",
   "execution_count": 18,
   "id": "da57f49e",
   "metadata": {},
   "outputs": [
    {
     "data": {
      "text/plain": [
       "[100, 600, 700, 960, 45, 'python']"
      ]
     },
     "execution_count": 18,
     "metadata": {},
     "output_type": "execute_result"
    }
   ],
   "source": [
    "new_py_list"
   ]
  },
  {
   "cell_type": "code",
   "execution_count": 19,
   "id": "416090b7",
   "metadata": {},
   "outputs": [
    {
     "data": {
      "text/plain": [
       "[100, 600, 700, 960, 45, 'python']"
      ]
     },
     "execution_count": 19,
     "metadata": {},
     "output_type": "execute_result"
    }
   ],
   "source": [
    "py_list"
   ]
  },
  {
   "cell_type": "code",
   "execution_count": 20,
   "id": "ff341972",
   "metadata": {},
   "outputs": [],
   "source": [
    "import copy"
   ]
  },
  {
   "cell_type": "code",
   "execution_count": 21,
   "id": "a4553efa",
   "metadata": {},
   "outputs": [],
   "source": [
    "pylist1 = copy.deepcopy(py_list)"
   ]
  },
  {
   "cell_type": "code",
   "execution_count": 22,
   "id": "5d99d46b",
   "metadata": {},
   "outputs": [
    {
     "data": {
      "text/plain": [
       "[100, 600, 700, 960, 45, 'python']"
      ]
     },
     "execution_count": 22,
     "metadata": {},
     "output_type": "execute_result"
    }
   ],
   "source": [
    "pylist1"
   ]
  },
  {
   "cell_type": "code",
   "execution_count": 23,
   "id": "546903fe",
   "metadata": {},
   "outputs": [],
   "source": [
    "pylist1.append('java')"
   ]
  },
  {
   "cell_type": "code",
   "execution_count": 24,
   "id": "55a950bb",
   "metadata": {},
   "outputs": [
    {
     "data": {
      "text/plain": [
       "[100, 600, 700, 960, 45, 'python', 'java']"
      ]
     },
     "execution_count": 24,
     "metadata": {},
     "output_type": "execute_result"
    }
   ],
   "source": [
    "pylist1"
   ]
  },
  {
   "cell_type": "code",
   "execution_count": 25,
   "id": "3955e644",
   "metadata": {},
   "outputs": [
    {
     "data": {
      "text/plain": [
       "[100, 600, 700, 960, 45, 'python']"
      ]
     },
     "execution_count": 25,
     "metadata": {},
     "output_type": "execute_result"
    }
   ],
   "source": [
    "py_list"
   ]
  },
  {
   "cell_type": "code",
   "execution_count": 26,
   "id": "d720cf60",
   "metadata": {},
   "outputs": [],
   "source": [
    "p1 = py_list.copy()"
   ]
  },
  {
   "cell_type": "code",
   "execution_count": 27,
   "id": "3406a09d",
   "metadata": {},
   "outputs": [
    {
     "data": {
      "text/plain": [
       "[100, 600, 700, 960, 45, 'python']"
      ]
     },
     "execution_count": 27,
     "metadata": {},
     "output_type": "execute_result"
    }
   ],
   "source": [
    "p1"
   ]
  },
  {
   "cell_type": "code",
   "execution_count": 31,
   "id": "9f97ac41",
   "metadata": {},
   "outputs": [],
   "source": [
    "p = [1,1,1,1,1,6,7,0,90,5,89,4,True,False,True,None,0]"
   ]
  },
  {
   "cell_type": "code",
   "execution_count": 38,
   "id": "0461177a",
   "metadata": {},
   "outputs": [
    {
     "data": {
      "text/plain": [
       "1"
      ]
     },
     "execution_count": 38,
     "metadata": {},
     "output_type": "execute_result"
    }
   ],
   "source": [
    "p.count(89)"
   ]
  },
  {
   "cell_type": "code",
   "execution_count": 37,
   "id": "555dcabd",
   "metadata": {},
   "outputs": [
    {
     "data": {
      "text/plain": [
       "0"
      ]
     },
     "execution_count": 37,
     "metadata": {},
     "output_type": "execute_result"
    }
   ],
   "source": [
    "True -- 1\n",
    "False --0"
   ]
  },
  {
   "cell_type": "code",
   "execution_count": null,
   "id": "a249b3b5",
   "metadata": {},
   "outputs": [],
   "source": []
  }
 ],
 "metadata": {
  "kernelspec": {
   "display_name": "Python 3",
   "language": "python",
   "name": "python3"
  },
  "language_info": {
   "codemirror_mode": {
    "name": "ipython",
    "version": 3
   },
   "file_extension": ".py",
   "mimetype": "text/x-python",
   "name": "python",
   "nbconvert_exporter": "python",
   "pygments_lexer": "ipython3",
   "version": "3.8.8"
  }
 },
 "nbformat": 4,
 "nbformat_minor": 5
}
